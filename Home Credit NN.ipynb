{
 "cells": [
  {
   "cell_type": "code",
   "execution_count": 4,
   "metadata": {},
   "outputs": [],
   "source": [
    "import pandas as pd\n",
    "from pandas import Series, DataFrame\n",
    "import os\n",
    "import sys\n",
    "import numpy as np"
   ]
  },
  {
   "cell_type": "code",
   "execution_count": 5,
   "metadata": {},
   "outputs": [
    {
     "name": "stderr",
     "output_type": "stream",
     "text": [
      "Using TensorFlow backend.\n"
     ]
    },
    {
     "data": {
      "text/plain": [
       "'2.1.6'"
      ]
     },
     "execution_count": 5,
     "metadata": {},
     "output_type": "execute_result"
    }
   ],
   "source": [
    "import keras\n",
    "from keras import layers, utils, optimizers, losses, models, callbacks\n",
    "keras.__version__"
   ]
  },
  {
   "cell_type": "code",
   "execution_count": 6,
   "metadata": {},
   "outputs": [],
   "source": [
    "applicationDF = pd.read_csv(os.path.join('.','data','application_train.csv'))"
   ]
  },
  {
   "cell_type": "code",
   "execution_count": 11,
   "metadata": {},
   "outputs": [],
   "source": [
    "from tools.modelTools import categoricalColumns, numericalColumns\n",
    "\n",
    "categoricalColumns = categoricalColumns()\n",
    "numericalColumns = numericalColumns()"
   ]
  },
  {
   "cell_type": "code",
   "execution_count": 12,
   "metadata": {},
   "outputs": [
    {
     "data": {
      "text/plain": [
       "24825"
      ]
     },
     "execution_count": 12,
     "metadata": {},
     "output_type": "execute_result"
    }
   ],
   "source": [
    "targets = applicationDF[\"TARGET\"]\n",
    "quant_df = pd.concat([applicationDF[numericalColumns], targets], axis=1)\n",
    "\n",
    "positive_loans = quant_df[quant_df[\"TARGET\"]==1]\n",
    "positive_loans.shape[0]"
   ]
  },
  {
   "cell_type": "code",
   "execution_count": 13,
   "metadata": {},
   "outputs": [
    {
     "data": {
      "text/plain": [
       "273075"
      ]
     },
     "execution_count": 13,
     "metadata": {},
     "output_type": "execute_result"
    }
   ],
   "source": [
    "positive_loans = positive_loans.append([positive_loans]*10,ignore_index=True)\n",
    "positive_loans.shape[0]"
   ]
  },
  {
   "cell_type": "code",
   "execution_count": 14,
   "metadata": {},
   "outputs": [
    {
     "data": {
      "text/plain": [
       "282686"
      ]
     },
     "execution_count": 14,
     "metadata": {},
     "output_type": "execute_result"
    }
   ],
   "source": [
    "negative_loans = quant_df[quant_df[\"TARGET\"]==0]\n",
    "negative_loans.shape[0]"
   ]
  },
  {
   "cell_type": "code",
   "execution_count": 15,
   "metadata": {},
   "outputs": [],
   "source": [
    "quant_df = positive_loans.append([negative_loans])"
   ]
  },
  {
   "cell_type": "code",
   "execution_count": 16,
   "metadata": {},
   "outputs": [],
   "source": [
    "# mix the rows\n",
    "import csv\n",
    "quant_df = quant_df.sample(frac=1).reset_index(drop=True)"
   ]
  },
  {
   "cell_type": "code",
   "execution_count": 17,
   "metadata": {},
   "outputs": [],
   "source": [
    "# fill in NaN\n",
    "quant_df = quant_df.fillna(quant_df.mean())"
   ]
  },
  {
   "cell_type": "code",
   "execution_count": 18,
   "metadata": {},
   "outputs": [],
   "source": [
    "# define the validation dataset\n",
    "validation_set = quant_df.sample(frac=0.2).reset_index(drop=False)\n",
    "training_set = quant_df.drop(validation_set[\"index\"], axis=0).reset_index(drop=True)\n",
    "validation_set = validation_set.drop([\"index\"], axis=1).reset_index(drop=True)"
   ]
  },
  {
   "cell_type": "code",
   "execution_count": 19,
   "metadata": {},
   "outputs": [],
   "source": [
    "# setup the training dataset\n",
    "training_targets = training_set[\"TARGET\"]\n",
    "\n",
    "# drop the old index from the validation dataset\n",
    "validation_targets = validation_set[\"TARGET\"]\n",
    "\n",
    "#drop the target columns\n",
    "training_set = training_set.drop([\"TARGET\"], axis=1).reset_index(drop=True)\n",
    "validation_set = validation_set.drop([\"TARGET\"], axis=1).reset_index(drop=True)"
   ]
  },
  {
   "cell_type": "code",
   "execution_count": 20,
   "metadata": {},
   "outputs": [],
   "source": [
    "# get the ndarray out of the dataframe\n",
    "training_set = training_set.values\n",
    "validation_set = validation_set.values"
   ]
  },
  {
   "cell_type": "code",
   "execution_count": 21,
   "metadata": {},
   "outputs": [],
   "source": [
    "# onehot for the targets\n",
    "training_targets = utils.to_categorical(training_targets)\n",
    "validation_targets_one_hot = utils.to_categorical(validation_targets)"
   ]
  },
  {
   "cell_type": "code",
   "execution_count": 22,
   "metadata": {},
   "outputs": [],
   "source": [
    "# normalize the training and validation data\n",
    "from sklearn import preprocessing\n",
    "min_max_scaler = preprocessing.MinMaxScaler()\n",
    "training_set = min_max_scaler.fit_transform(training_set)\n",
    "validation_set = min_max_scaler.fit(validation_set)"
   ]
  },
  {
   "cell_type": "code",
   "execution_count": null,
   "metadata": {},
   "outputs": [],
   "source": [
    "# define the NN architecture\n",
    "inputs = layers.Input(shape=(69,), name=\"inputs\")\n",
    "\n",
    "fc1 = layers.Dense(units=256, activation='relu', name='fc1')(inputs)\n",
    "fc2 = layers.Dense(units=512, activation='relu', name='fc2')(fc1)\n",
    "fc3 = layers.Dense(units=512, activation='relu', name='fc3')(fc2)\n",
    "fc4 = layers.Dense(units=512, activation='relu', name='fc4')(fc3)\n",
    "\n",
    "outputs = layers.Dense(units=2, activation='softmax', name='outputs')(fc4)\n",
    "model = models.Model(inputs=[inputs], outputs=[outputs])"
   ]
  },
  {
   "cell_type": "code",
   "execution_count": null,
   "metadata": {},
   "outputs": [],
   "source": [
    "# set up the optimizer and the loss function\n",
    "optimizer = optimizers.Adam(lr=0.0001)\n",
    "loss = losses.binary_crossentropy\n",
    "early_stopping = callbacks.EarlyStopping(monitor='val_loss', patience=3, verbose=1)"
   ]
  },
  {
   "cell_type": "code",
   "execution_count": null,
   "metadata": {},
   "outputs": [],
   "source": [
    "model.compile(loss=loss, metrics=['accuracy'], optimizer=optimizer)\n",
    "model.fit(x=training_set, y=training_targets, batch_size=256, validation_split=0.1, callbacks=[early_stopping], epochs=50)"
   ]
  },
  {
   "cell_type": "code",
   "execution_count": null,
   "metadata": {},
   "outputs": [],
   "source": [
    "loss_, acc_ = model.evaluate(x=validation_set, y=validation_targets_one_hot)\n",
    "\n",
    "print(\"Loss: {}, Accuracy: {}\".format(loss_, acc_))"
   ]
  },
  {
   "cell_type": "code",
   "execution_count": null,
   "metadata": {},
   "outputs": [],
   "source": [
    "from sklearn.metrics import roc_curve, roc_auc_score\n",
    "y_pred_keras = model.predict(validation_set)\n",
    "fpr, tpr, thresholds = roc_curve(validation_targets, np.argmax(y_pred_keras, axis=1))\n",
    "print(\"AUC: {}\".format(roc_auc_score(np.argmax(y_pred_keras, axis=1), validation_targets)))"
   ]
  },
  {
   "cell_type": "code",
   "execution_count": null,
   "metadata": {},
   "outputs": [],
   "source": []
  },
  {
   "cell_type": "code",
   "execution_count": 25,
   "metadata": {},
   "outputs": [],
   "source": [
    "def create_NN(inputRowCount):\n",
    "    \n",
    "    try:\n",
    "        del model\n",
    "    except:\n",
    "        pass\n",
    "    \n",
    "    # define the NN architecture\n",
    "    inputs = layers.Input(shape=(inputRowCount,), name=\"inputs\")\n",
    "\n",
    "    fc1 = layers.Dense(units=256, activation='relu', name='fc1')(inputs)\n",
    "    fc2 = layers.Dense(units=512, activation='relu', name='fc2')(fc1)\n",
    "    fc3 = layers.Dense(units=512, activation='relu', name='fc3')(fc2)\n",
    "    fc4 = layers.Dense(units=512, activation='relu', name='fc4')(fc3)\n",
    "\n",
    "    outputs = layers.Dense(units=2, activation='softmax', name='outputs')(fc4)\n",
    "    model = models.Model(inputs=[inputs], outputs=[outputs])\n",
    "    return model\n",
    "\n",
    "def train_NN(X, y, inputRowCount, epochs):\n",
    "    # set up the optimizer and the loss function\n",
    "    optimizer = optimizers.Adam(lr=0.0001)\n",
    "    loss = losses.binary_crossentropy\n",
    "    early_stopping = callbacks.EarlyStopping(monitor='val_loss', patience=3, verbose=1)\n",
    "    \n",
    "    \n",
    "    model=create_NN(inputRowCount)\n",
    "    \n",
    "    model.compile(loss=loss, metrics=['accuracy'], optimizer=optimizer)\n",
    "    model.fit(x=X, y=y, batch_size=256, validation_split=0.1, callbacks=[early_stopping], epochs=epochs)"
   ]
  },
  {
   "cell_type": "code",
   "execution_count": 26,
   "metadata": {},
   "outputs": [
    {
     "name": "stdout",
     "output_type": "stream",
     "text": [
      "Train on 400148 samples, validate on 44461 samples\n",
      "Epoch 1/1\n",
      "400148/400148 [==============================] - 60s 150us/step - loss: 0.6108 - acc: 0.6677 - val_loss: 0.6042 - val_acc: 0.6723\n"
     ]
    }
   ],
   "source": [
    "train_NN(X=training_set, y=training_targets, inputRowCount=69, epochs=1)"
   ]
  },
  {
   "cell_type": "code",
   "execution_count": 27,
   "metadata": {},
   "outputs": [
    {
     "name": "stdout",
     "output_type": "stream",
     "text": [
      "Train on 400148 samples, validate on 44461 samples\n",
      "Epoch 1/1\n",
      "400148/400148 [==============================] - 66s 165us/step - loss: 0.6112 - acc: 0.6673 - val_loss: 0.6047 - val_acc: 0.6724\n",
      "Train on 400148 samples, validate on 44461 samples\n",
      "Epoch 1/1\n",
      "400148/400148 [==============================] - 71s 178us/step - loss: 0.6112 - acc: 0.6676 - val_loss: 0.6044 - val_acc: 0.6729\n"
     ]
    }
   ],
   "source": [
    "for i in range(2):\n",
    "    train_NN(X=training_set, y=training_targets, inputRowCount=69, epochs=1)"
   ]
  },
  {
   "cell_type": "code",
   "execution_count": null,
   "metadata": {},
   "outputs": [],
   "source": []
  },
  {
   "cell_type": "code",
   "execution_count": null,
   "metadata": {},
   "outputs": [],
   "source": []
  },
  {
   "cell_type": "markdown",
   "metadata": {},
   "source": [
    "## Model"
   ]
  },
  {
   "cell_type": "code",
   "execution_count": 8,
   "metadata": {},
   "outputs": [],
   "source": [
    "N_FEAT = 122\n",
    "N_UNITS = [1024, 1024, 512]"
   ]
  },
  {
   "cell_type": "code",
   "execution_count": 16,
   "metadata": {},
   "outputs": [],
   "source": [
    "input_ = layers.Input(shape=(N_FEAT, ), name=\"Input\")\n",
    "\n",
    "fc_1 = layers.Dense(units=N_UNITS[0], activation='relu', name='fc_1')(input_)\n",
    "fc_2 = layers.Dense(units=N_UNITS[1], activation='relu', name='fc_2')(fc_1)\n",
    "fc_3 = layers.Dense(units=N_UNITS[2], activation='relu', name='fc_3')(fc_2)\n",
    "output = layers.Dense(units=1, activation='softmax', name='output')(fc_3)\n",
    "\n",
    "model = models.Model(inputs=input_, outputs=output)\n",
    "model.compile(loss=losses.binary_crossentropy, optimizer='adam')\n"
   ]
  },
  {
   "cell_type": "code",
   "execution_count": null,
   "metadata": {},
   "outputs": [],
   "source": []
  },
  {
   "cell_type": "code",
   "execution_count": null,
   "metadata": {},
   "outputs": [],
   "source": []
  }
 ],
 "metadata": {
  "kernelspec": {
   "display_name": "Python 3",
   "language": "python",
   "name": "python3"
  },
  "language_info": {
   "codemirror_mode": {
    "name": "ipython",
    "version": 3
   },
   "file_extension": ".py",
   "mimetype": "text/x-python",
   "name": "python",
   "nbconvert_exporter": "python",
   "pygments_lexer": "ipython3",
   "version": "3.6.3"
  }
 },
 "nbformat": 4,
 "nbformat_minor": 2
}
