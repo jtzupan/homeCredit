{
 "cells": [
  {
   "cell_type": "code",
   "execution_count": 2,
   "metadata": {},
   "outputs": [],
   "source": [
    "from keras import layers, models, losses"
   ]
  },
  {
   "cell_type": "code",
   "execution_count": null,
   "metadata": {},
   "outputs": [],
   "source": []
  },
  {
   "cell_type": "markdown",
   "metadata": {},
   "source": [
    "## Model"
   ]
  },
  {
   "cell_type": "code",
   "execution_count": 8,
   "metadata": {},
   "outputs": [],
   "source": [
    "N_FEAT = 122\n",
    "N_UNITS = [1024, 1024, 512]"
   ]
  },
  {
   "cell_type": "code",
   "execution_count": 16,
   "metadata": {},
   "outputs": [],
   "source": [
    "input_ = layers.Input(shape=(N_FEAT, ), name=\"Input\")\n",
    "\n",
    "fc_1 = layers.Dense(units=N_UNITS[0], activation='relu', name='fc_1')(input_)\n",
    "fc_2 = layers.Dense(units=N_UNITS[1], activation='relu', name='fc_2')(fc_1)\n",
    "fc_3 = layers.Dense(units=N_UNITS[2], activation='relu', name='fc_3')(fc_2)\n",
    "output = layers.Dense(units=1, activation='softmax', name='output')(fc_3)\n",
    "\n",
    "model = models.Model(inputs=input_, outputs=output)\n",
    "model.compile(loss=losses.binary_crossentropy, optimizer='adam')\n"
   ]
  },
  {
   "cell_type": "code",
   "execution_count": null,
   "metadata": {},
   "outputs": [],
   "source": []
  },
  {
   "cell_type": "code",
   "execution_count": null,
   "metadata": {},
   "outputs": [],
   "source": []
  }
 ],
 "metadata": {
  "kernelspec": {
   "display_name": "Python [conda env:py3]",
   "language": "python",
   "name": "conda-env-py3-py"
  },
  "language_info": {
   "codemirror_mode": {
    "name": "ipython",
    "version": 3
   },
   "file_extension": ".py",
   "mimetype": "text/x-python",
   "name": "python",
   "nbconvert_exporter": "python",
   "pygments_lexer": "ipython3",
   "version": "3.6.5"
  }
 },
 "nbformat": 4,
 "nbformat_minor": 2
}
